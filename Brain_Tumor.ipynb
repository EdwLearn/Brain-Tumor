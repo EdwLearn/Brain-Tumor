{
  "cells": [
    {
      "cell_type": "markdown",
      "metadata": {
        "id": "XA6eXlOT6eA1"
      },
      "source": [
        "# Libraries"
      ]
    },
    {
      "cell_type": "code",
      "execution_count": null,
      "metadata": {
        "id": "wtN7YNGm6y7F"
      },
      "outputs": [],
      "source": [
        "!pip install kaggle\n",
        "!kaggle datasets download -d navoneel/brain-mri-images-for-brain-tumor-detection -p /tmp\n",
        "!pip install keras\n",
        "!pip install -q -U keras-tuner\n",
        "!pip install mplcursors"
      ]
    },
    {
      "cell_type": "markdown",
      "metadata": {
        "id": "OLt9dopq6IAg"
      },
      "source": [
        "## Python Libraries"
      ]
    },
    {
      "cell_type": "code",
      "execution_count": null,
      "metadata": {
        "id": "nxNNU2Jw6HOZ"
      },
      "outputs": [],
      "source": [
        "import os\n",
        "import shutil\n",
        "import string\n",
        "import itertools\n",
        "import zipfile"
      ]
    },
    {
      "cell_type": "markdown",
      "metadata": {
        "id": "xRYCgqwf6SX1"
      },
      "source": [
        "## Manipulation data & matrix"
      ]
    },
    {
      "cell_type": "code",
      "execution_count": null,
      "metadata": {
        "id": "H9sqV-906SJl"
      },
      "outputs": [],
      "source": [
        "import numpy as np\n",
        "from tqdm import tqdm"
      ]
    },
    {
      "cell_type": "markdown",
      "metadata": {
        "id": "N3mJLQk46Yvl"
      },
      "source": [
        "## Visualization"
      ]
    },
    {
      "cell_type": "code",
      "execution_count": null,
      "metadata": {
        "id": "og33qBMn6YnN"
      },
      "outputs": [],
      "source": [
        "import matplotlib.pyplot as plt\n",
        "import matplotlib.image as mping\n",
        "from plotly.offline import init_notebook_mode, iplot\n",
        "import plotly.graph_objs as go\n",
        "from plotly import tools\n",
        "%matplotlib inline"
      ]
    },
    {
      "cell_type": "markdown",
      "metadata": {
        "id": "VKh-6K0O6lyT"
      },
      "source": [
        "## Image process"
      ]
    },
    {
      "cell_type": "code",
      "execution_count": null,
      "metadata": {
        "id": "m5Pxbyms6dP2"
      },
      "outputs": [],
      "source": [
        "import cv2\n",
        "import imutils"
      ]
    },
    {
      "cell_type": "markdown",
      "metadata": {
        "id": "aO_BgAbI6opU"
      },
      "source": [
        "## TensorFlow & Keras"
      ]
    },
    {
      "cell_type": "code",
      "execution_count": null,
      "metadata": {
        "id": "-BZ3ikpJ6oej"
      },
      "outputs": [],
      "source": [
        "import tensorflow as tf\n",
        "from tensorflow.keras import layers, regularizers\n",
        "from tensorflow.keras.preprocessing.image import ImageDataGenerator\n",
        "from tensorflow.keras.optimizers import Adam, RMSprop\n",
        "from tensorflow.keras.callbacks import Callback, ModelCheckpoint, EarlyStopping\n",
        "from keras.applications.vgg16 import VGG16, preprocess_input\n",
        "from keras.models import Model, Sequential\n",
        "import tensorflow_hub as hub\n",
        "from tensorflow.keras.layers import Input, Flatten, Dropout, Dense"
      ]
    },
    {
      "cell_type": "markdown",
      "metadata": {
        "id": "fD2tP22-6tDN"
      },
      "source": [
        "## Hiperparams"
      ]
    },
    {
      "cell_type": "code",
      "execution_count": null,
      "metadata": {
        "id": "YtZcl1zK6s07"
      },
      "outputs": [],
      "source": [
        "import kerastuner as kt"
      ]
    },
    {
      "cell_type": "markdown",
      "metadata": {
        "id": "XrbGydPq6_zf"
      },
      "source": [
        "## Scikit-Learn"
      ]
    },
    {
      "cell_type": "code",
      "execution_count": null,
      "metadata": {
        "id": "_RTFzzS16_Ue"
      },
      "outputs": [],
      "source": [
        "from sklearn.preprocessing import LabelBinarizer\n",
        "from sklearn.model_selection import train_test_split\n",
        "from sklearn.metrics import accuracy_score, confusion_matrix\n"
      ]
    },
    {
      "cell_type": "markdown",
      "metadata": {
        "id": "e_GRh3SK7QBG"
      },
      "source": [
        "# Funtions"
      ]
    },
    {
      "cell_type": "markdown",
      "metadata": {
        "id": "WguZr_G93AvI"
      },
      "source": [
        "### plot Image function"
      ]
    },
    {
      "cell_type": "code",
      "execution_count": null,
      "metadata": {
        "id": "qeg8Fh7nKatq"
      },
      "outputs": [],
      "source": [
        "def plotImage(images_arr):\n",
        "  fig, axes = plt.subplots(1, 5, figsize=(20, 20))\n",
        "  axes = axes.flatten()\n",
        "  for img, ax in zip(images_arr, axes):\n",
        "    ax.imshow(img[:,:,0])\n",
        "    ax.axis('off')\n",
        "  plt.tight_layout()\n",
        "  plt.show"
      ]
    },
    {
      "cell_type": "code",
      "execution_count": null,
      "metadata": {
        "id": "cUWSOM3OaMsD"
      },
      "outputs": [],
      "source": [
        "def visualizacion_resultados(history):\n",
        "  epochs = [i for i in range(len(history.history[\"accuracy\"]))]\n",
        "  fig, ax = plt.subplots(1,2)\n",
        "  train_acc = history.history[\"accuracy\"]\n",
        "  train_loss = history.history[\"loss\"]\n",
        "  val_acc = history.history[\"val_accuracy\"]\n",
        "  val_loss = history.history[\"val_loss\"]\n",
        "  fig.set_size_inches(16,9)\n",
        "\n",
        "  ax[0].plot(epochs, train_acc, \"go-\",label = \"Entrenamiento accuracy\")\n",
        "  ax[0].plot(epochs, val_acc, \"ro-\",label = \"Validación accuracy\")\n",
        "  ax[0].set_title(\"Entrenamiento y validación accuracy\")\n",
        "  ax[0].legend()\n",
        "  ax[0].set_xlabel(\"Epochs\")\n",
        "  ax[0].set_ylabel(\"Accuracy\")\n",
        "\n",
        "  ax[1].plot(epochs, train_loss, \"go-\",label = \"Entrenamiento loss\")\n",
        "  ax[1].plot(epochs, val_loss, \"ro-\",label = \"Validación loss\")\n",
        "  ax[1].set_title(\"Entrenamiento y validación loss\")\n",
        "  ax[1].legend()\n",
        "  ax[1].set_xlabel(\"Epochs\")\n",
        "  ax[1].set_ylabel(\"Loss\")\n",
        "\n",
        "  plt.show()"
      ]
    },
    {
      "cell_type": "code",
      "execution_count": null,
      "metadata": {
        "id": "aAl70Amcp_sS"
      },
      "outputs": [],
      "source": [
        "def plot_confusion_matrix(cm, classes,\n",
        "                          normalize=False,\n",
        "                          title='Confusion matrix',\n",
        "                          cmap=plt.cm.Blues):\n",
        "    \"\"\"\n",
        "    This function prints and plots the confusion matrix.\n",
        "    Normalization can be applied by setting `normalize=True`.\n",
        "    \"\"\"\n",
        "    plt.figure(figsize = (6,6))\n",
        "    plt.imshow(cm, interpolation='nearest', cmap=cmap)\n",
        "    plt.title(title)\n",
        "    plt.colorbar()\n",
        "    tick_marks = np.arange(len(classes))\n",
        "    plt.xticks(tick_marks, classes, rotation=90)\n",
        "    plt.yticks(tick_marks, classes)\n",
        "    if normalize:\n",
        "        cm = cm.astype('float') / cm.sum(axis=1)[:, np.newaxis]\n",
        "\n",
        "    thresh = cm.max() / 2.\n",
        "    cm = np.round(cm,2)\n",
        "    for i, j in itertools.product(range(cm.shape[0]), range(cm.shape[1])):\n",
        "        plt.text(j, i, cm[i, j],\n",
        "                 horizontalalignment=\"center\",\n",
        "                 color=\"white\" if cm[i, j] > thresh else \"black\")\n",
        "    plt.tight_layout()\n",
        "    plt.ylabel('True label')\n",
        "    plt.xlabel('Predicted label')\n",
        "    plt.show()"
      ]
    },
    {
      "cell_type": "code",
      "execution_count": null,
      "metadata": {
        "id": "k8noKslDr8YG"
      },
      "outputs": [],
      "source": [
        "def plot_samples(X, y, labels_dict, n=50):\n",
        "    \"\"\"\n",
        "    Creates a gridplot for desired number of images (n) from the specified set\n",
        "    \"\"\"\n",
        "    for index in range(len(labels_dict)):\n",
        "        imgs = X[np.argwhere(y == index)][:n]\n",
        "        j = 10\n",
        "        i = int(n/j)\n",
        "\n",
        "        plt.figure(figsize=(15,6))\n",
        "        c = 1\n",
        "        for img in imgs:\n",
        "            plt.subplot(i,j,c)\n",
        "            plt.imshow(img[0])\n",
        "\n",
        "            plt.xticks([])\n",
        "            plt.yticks([])\n",
        "            c += 1\n",
        "        plt.suptitle('Tumor: {}'.format(labels_dict[index]))\n",
        "        plt.show()"
      ]
    },
    {
      "cell_type": "code",
      "execution_count": null,
      "metadata": {
        "id": "-5tMa1eGk3I7"
      },
      "outputs": [],
      "source": [
        "def model_constructor(hp):\n",
        "  model = tf.keras.models.Sequential()\n",
        "  model.add(tf.keras.layers.Conv2D(75, (3,3), activation = 'relu', input_shape = (28,28,1)))\n",
        "  model.add(tf.keras.layers.MaxPooling2D((2,2)))\n",
        "  model.add(tf.keras.layers.Flatten())\n",
        "\n",
        "  hp_units = hp.Int('units', min_value = 32, max_value = 512, step = 32)\n",
        "  model.add(tf.keras.layers.Dense(units = hp_units, activation = 'relu', kernel_regularizer= regularizers.l2(1e-5)))\n",
        "  model.add(tf.keras.layers.Dropout(0.2))\n",
        "  model.add(tf.keras.layers.Dense(units = hp_units, activation = 'relu', kernel_regularizer= regularizers.l2(1e-5)))\n",
        "  model.add(tf.keras.layers.Dropout(0.2))\n",
        "  model.add(tf.keras.layers.Dense(2, activation = 'softmax'))\n",
        "\n",
        "  hp_learning_rate = hp.Choice('learning_rate', values = [1e-2, 1e-3, 1e-4])\n",
        "\n",
        "  model.compile(optimizer = tf.keras.optimizers.Adam(learning_rate = hp_learning_rate),\n",
        "                loss = 'categorical_crossentropy',\n",
        "                metrics = ['accuracy'])\n",
        "  return model"
      ]
    },
    {
      "cell_type": "code",
      "source": [
        "def plot_confusion_matrix(cm, classes, normalize=False, title='Confusion matrix', cmap=plt.cm.Blues):\n",
        "    if normalize:\n",
        "        cm = cm.astype('float') / cm.sum(axis=1)[:, np.newaxis]\n",
        "        print(\"Matriz de confusión normalizada\")\n",
        "    else:\n",
        "        print('Matriz de confusión sin normalizar')\n",
        "\n",
        "    plt.figure(figsize=(8, 6))\n",
        "    plt.imshow(cm, interpolation='nearest', cmap=cmap)\n",
        "    plt.title(title)\n",
        "    plt.colorbar()\n",
        "    tick_marks = np.arange(len(classes))\n",
        "    plt.xticks(tick_marks, classes, rotation=45)\n",
        "    plt.yticks(tick_marks, classes)\n",
        "\n",
        "    fmt = '.2f' if normalize else 'd'\n",
        "    thresh = cm.max() / 2.\n",
        "    for i, j in itertools.product(range(cm.shape[0]), range(cm.shape[1])):\n",
        "        plt.text(j, i, format(cm[i, j], fmt),\n",
        "                 horizontalalignment=\"center\",\n",
        "\n",
        "                 color=\"white\" if cm[i, j] > thresh else \"black\")\n",
        "\n",
        "    plt.ylabel('True label')\n",
        "    plt.xlabel('Predicted label')\n",
        "    plt.tight_layout()\n",
        "    plt.show()"
      ],
      "metadata": {
        "id": "WX6PsVP2bydp"
      },
      "execution_count": null,
      "outputs": []
    },
    {
      "cell_type": "markdown",
      "source": [
        "### Process function"
      ],
      "metadata": {
        "id": "QWJiBDYw70NE"
      }
    },
    {
      "cell_type": "code",
      "execution_count": null,
      "metadata": {
        "id": "3uk79QxSp3Wv"
      },
      "outputs": [],
      "source": [
        "def load_data(dir_path, img_size=(100,100)):\n",
        "    \"\"\"\n",
        "    Load resized images as np.arrays to workspace\n",
        "    \"\"\"\n",
        "    X = []\n",
        "    y = []\n",
        "    i = 0\n",
        "    labels = dict()\n",
        "    for path in tqdm(sorted(os.listdir(dir_path))):\n",
        "        if not path.startswith('.'):\n",
        "            labels[i] = path\n",
        "            for file in os.listdir(dir_path + path):\n",
        "                if not file.startswith('.'):\n",
        "                    img = cv2.imread(dir_path + path + '/' + file)\n",
        "                    img = cv2.resize(img, img_size)\n",
        "                    X.append(img)\n",
        "                    y.append(i)\n",
        "            i += 1\n",
        "    X = np.array(X)\n",
        "    y = np.array(y)\n",
        "    print(f'{len(X)} images loaded from {dir_path} directory.')\n",
        "    return X, y, labels"
      ]
    },
    {
      "cell_type": "code",
      "execution_count": null,
      "metadata": {
        "id": "TXIok0BZzFdd"
      },
      "outputs": [],
      "source": [
        "def preprocess_imgs(set_name, img_size):\n",
        "    \"\"\"\n",
        "    Resize and apply VGG-15 preprocessing\n",
        "    \"\"\"\n",
        "    set_new = []\n",
        "    for img in set_name:\n",
        "        img = cv2.resize(\n",
        "            img,\n",
        "            dsize=img_size,\n",
        "            interpolation=cv2.INTER_CUBIC\n",
        "        )\n",
        "        set_new.append(preprocess_input(img))\n",
        "    return np.array(set_new)"
      ]
    },
    {
      "cell_type": "code",
      "execution_count": null,
      "metadata": {
        "id": "Z0JibV6MxhyU"
      },
      "outputs": [],
      "source": [
        "import cv2\n",
        "import numpy as np\n",
        "import imutils\n",
        "\n",
        "def crop_imgs(set_name, add_pixels_value=0):\n",
        "    \"\"\"\n",
        "    Finds the largest contour in each image,\n",
        "    finds its extreme points, and crops the image.\n",
        "    \"\"\"\n",
        "    set_new = []\n",
        "    for img in set_name:\n",
        "        gray = cv2.cvtColor(img, cv2.COLOR_RGB2GRAY)\n",
        "        gray = cv2.GaussianBlur(gray, (5, 5), 0)\n",
        "\n",
        "        # threshold the image, then perform a series of erosions +\n",
        "        # dilations to remove any small regions of noise\n",
        "        thresh = cv2.threshold(gray, 45, 255, cv2.THRESH_BINARY)[1]\n",
        "        thresh = cv2.erode(thresh, None, iterations=2)\n",
        "        thresh = cv2.dilate(thresh, None, iterations=2)\n",
        "\n",
        "        # find contours in thresholded image, then grab the largest one\n",
        "        cnts = cv2.findContours(thresh.copy(), cv2.RETR_EXTERNAL, cv2.CHAIN_APPROX_SIMPLE)\n",
        "        cnts = imutils.grab_contours(cnts)\n",
        "\n",
        "        # Handle case where no contours are found\n",
        "        if len(cnts) == 0:\n",
        "            # Append original image if no contours are found\n",
        "            set_new.append(img)\n",
        "            continue\n",
        "\n",
        "        c = max(cnts, key=cv2.contourArea)\n",
        "\n",
        "        # find the extreme points\n",
        "        extLeft = tuple(c[c[:, :, 0].argmin()][0])\n",
        "        extRight = tuple(c[c[:, :, 0].argmax()][0])\n",
        "        extTop = tuple(c[c[:, :, 1].argmin()][0])\n",
        "        extBot = tuple(c[c[:, :, 1].argmax()][0])\n",
        "\n",
        "        # Ensure coordinates are within image boundaries\n",
        "        extLeft = (max(0, extLeft[0] - add_pixels_value), extLeft[1])\n",
        "        extRight = (min(img.shape[1], extRight[0] + add_pixels_value), extRight[1])\n",
        "        extTop = (extTop[0], max(0, extTop[1] - add_pixels_value))\n",
        "        extBot = (extBot[0], min(img.shape[0], extBot[1] + add_pixels_value))\n",
        "\n",
        "        # crop\n",
        "        new_img = img[extTop[1]:extBot[1], extLeft[0]:extRight[0]].copy()\n",
        "\n",
        "        # Resize the image to a consistent size if necessary\n",
        "        # new_img = cv2.resize(new_img, (desired_width, desired_height))\n",
        "\n",
        "        set_new.append(new_img)\n",
        "\n",
        "    return np.array(set_new, dtype=object) # Use dtype=object to handle variable shapes"
      ]
    },
    {
      "cell_type": "markdown",
      "source": [
        "### training and save function"
      ],
      "metadata": {
        "id": "BIl4tvqY8Frc"
      }
    },
    {
      "cell_type": "code",
      "execution_count": null,
      "metadata": {
        "id": "CKGzke0dSzSt"
      },
      "outputs": [],
      "source": [
        "class TrainingCallback(Callback):\n",
        "  def on_epoch_end(self, epoch, logs = {}):\n",
        "    if logs.get('accuracy') > 0.95:\n",
        "      print(\"El modelo llego al 95% de accuracy, STOP\")\n",
        "      self.model.stop_training = True"
      ]
    },
    {
      "cell_type": "code",
      "execution_count": null,
      "metadata": {
        "id": "VTfx_Gmay975"
      },
      "outputs": [],
      "source": [
        "def save_new_images(x_set, y_set, folder_name):\n",
        "    i = 0\n",
        "    for (img, imclass) in zip(x_set, y_set):\n",
        "        if imclass == 0:\n",
        "            cv2.imwrite(folder_name+'NO/'+str(i)+'.jpg', img)\n",
        "        else:\n",
        "            cv2.imwrite(folder_name+'YES/'+str(i)+'.jpg', img)\n",
        "        i += 1"
      ]
    },
    {
      "cell_type": "markdown",
      "metadata": {
        "id": "fmWo9Vya7GwG"
      },
      "source": [
        "# Data"
      ]
    },
    {
      "cell_type": "code",
      "execution_count": null,
      "metadata": {
        "id": "qzHfuhfemFpA"
      },
      "outputs": [],
      "source": [
        "# removed extra spaces at the beginning of the line\n",
        "with zipfile.ZipFile('/tmp/brain-mri-images-for-brain-tumor-detection.zip', 'r') as zip_ref:\n",
        "    zip_ref.extractall('/tmp/brain-tumor')"
      ]
    },
    {
      "cell_type": "markdown",
      "metadata": {
        "id": "zwbgs9BLaL09"
      },
      "source": [
        "## Create and organice folders"
      ]
    },
    {
      "cell_type": "code",
      "execution_count": null,
      "metadata": {
        "id": "6WUXBn-Vv9Mr"
      },
      "outputs": [],
      "source": [
        "!mkdir -p brain_tumor_dataset/TRAIN/YES brain_tumor_dataset/TRAIN/NO \\\n",
        "brain_tumor_dataset/TEST/YES brain_tumor_dataset/TEST/NO \\\n",
        "brain_tumor_dataset/VAL/YES brain_tumor_dataset/VAL/NO"
      ]
    },
    {
      "cell_type": "code",
      "execution_count": null,
      "metadata": {
        "id": "svD0E7xE-AIc"
      },
      "outputs": [],
      "source": [
        "init_notebook_mode(connected=True)\n",
        "RANDOM_SEED = 123"
      ]
    },
    {
      "cell_type": "code",
      "execution_count": null,
      "metadata": {
        "id": "IIAzqlj1r1U9"
      },
      "outputs": [],
      "source": [
        "IMG_PATH = '/tmp/brain-tumor/brain_tumor_dataset/'\n",
        "# split the data by train/val/test\n",
        "for CLASS in os.listdir(IMG_PATH):\n",
        "    if not CLASS.startswith('.'):\n",
        "        IMG_NUM = len(os.listdir(IMG_PATH + CLASS))\n",
        "        for (n, FILE_NAME) in enumerate(os.listdir(IMG_PATH + CLASS)):\n",
        "            img = IMG_PATH + CLASS + '/' + FILE_NAME\n",
        "            if n < 5:\n",
        "                # Create the directory if it does not exist\n",
        "                os.makedirs('/tmp/brain-tumor/TEST/' + CLASS.upper(), exist_ok=True)\n",
        "                shutil.copy(img, '/tmp/brain-tumor/TEST/' + CLASS.upper() + '/' + FILE_NAME)\n",
        "            elif n < 0.8*IMG_NUM:\n",
        "                # Create the directory if it does not exist\n",
        "                os.makedirs('/tmp/brain-tumor/TRAIN/' + CLASS.upper(), exist_ok=True)\n",
        "                shutil.copy(img, '/tmp/brain-tumor/TRAIN/'+ CLASS.upper() + '/' + FILE_NAME)\n",
        "            else:\n",
        "                # Create the directory if it does not exist\n",
        "                os.makedirs('/tmp/brain-tumor/VAL/' + CLASS.upper(), exist_ok=True)\n",
        "                shutil.copy(img, '/tmp/brain-tumor/VAL/'+ CLASS.upper() + '/' + FILE_NAME)"
      ]
    },
    {
      "cell_type": "code",
      "execution_count": null,
      "metadata": {
        "id": "tLqOJfl9vbsF"
      },
      "outputs": [],
      "source": [
        "TRAIN_DIR = '/tmp/brain-tumor/TRAIN/'\n",
        "TEST_DIR = '/tmp/brain-tumor/TEST/'\n",
        "VAL_DIR = '/tmp/brain-tumor/VAL/'\n",
        "\n",
        "IMG_SIZE = (244,244)"
      ]
    },
    {
      "cell_type": "code",
      "execution_count": null,
      "metadata": {
        "id": "qVFOZxlaJnQL"
      },
      "outputs": [],
      "source": [
        "import os\n",
        "print(len(os.listdir(VAL_DIR + '/NO')))\n",
        "print(len(os.listdir(VAL_DIR + '/YES')))\n"
      ]
    },
    {
      "cell_type": "code",
      "source": [
        "X_train, y_train, labels = load_data(TRAIN_DIR, IMG_SIZE)\n",
        "x_test, y_test, _ = load_data(TEST_DIR, IMG_SIZE)\n",
        "x_val, y_val, _ = load_data(VAL_DIR, IMG_SIZE)"
      ],
      "metadata": {
        "id": "bs_bmF7vKt0R"
      },
      "execution_count": null,
      "outputs": []
    },
    {
      "cell_type": "code",
      "execution_count": null,
      "metadata": {
        "id": "-bKzYNvQ8yV2"
      },
      "outputs": [],
      "source": [
        "train_datagen = ImageDataGenerator(rescale=1/255)\n",
        "test_datagen = ImageDataGenerator(rescale=1/255)\n",
        "val_datagen = ImageDataGenerator(rescale=1/255)"
      ]
    },
    {
      "cell_type": "code",
      "execution_count": null,
      "metadata": {
        "id": "7rARTDHv9OGl"
      },
      "outputs": [],
      "source": [
        "train_generator = train_datagen.flow_from_directory(\n",
        "        TRAIN_DIR,\n",
        "        target_size=IMG_SIZE,\n",
        "        batch_size=32,\n",
        "        class_mode='categorical',\n",
        "        color_mode='grayscale',\n",
        "        subset= 'training')\n",
        "\n",
        "test_generator = test_datagen.flow_from_directory(\n",
        "        TEST_DIR,\n",
        "        target_size=IMG_SIZE,\n",
        "        batch_size=32,\n",
        "        class_mode='categorical',\n",
        "        color_mode='grayscale'\n",
        "        )\n",
        "\n",
        "validation_generator = val_datagen.flow_from_directory(\n",
        "        VAL_DIR,\n",
        "        target_size=IMG_SIZE,\n",
        "        batch_size=32,\n",
        "        class_mode='categorical',\n",
        "        color_mode='grayscale'\n",
        "        )"
      ]
    },
    {
      "cell_type": "code",
      "execution_count": null,
      "metadata": {
        "id": "-w9ExLaSLBWP"
      },
      "outputs": [],
      "source": [
        "sample_trining_images, _ = next(train_generator)\n",
        "plotImage(sample_trining_images[:5])"
      ]
    },
    {
      "cell_type": "code",
      "execution_count": null,
      "metadata": {
        "id": "8IquTGM6kw4j"
      },
      "outputs": [],
      "source": [
        "callback_early = tf.keras.callbacks.EarlyStopping(monitor = 'loss', patience = 3, mode = 'auto')"
      ]
    },
    {
      "cell_type": "markdown",
      "metadata": {
        "id": "9Mc0fhBloWCg"
      },
      "source": [
        "# **Project**"
      ]
    },
    {
      "cell_type": "code",
      "execution_count": null,
      "metadata": {
        "id": "Lp-KMbhvo9aW"
      },
      "outputs": [],
      "source": [
        "X_train, y_train, labels = load_data(TRAIN_DIR, IMG_SIZE)\n",
        "x_test, y_test, _ = load_data(TEST_DIR, IMG_SIZE)\n",
        "x_val, y_val, _ = load_data(VAL_DIR, IMG_SIZE)"
      ]
    },
    {
      "cell_type": "code",
      "execution_count": null,
      "metadata": {
        "id": "5bF0b62ypusw"
      },
      "outputs": [],
      "source": [
        "# Inicializar los contadores de clases\n",
        "y = {0: [], 1: []}\n",
        "\n",
        "# Contar cuántos ejemplos de cada clase hay en cada conjunto (train, val, test)\n",
        "for set_name in (y_train, y_val, y_test):\n",
        "    y[0].append(np.sum(set_name == 0))  # Contar clase 0 (No)\n",
        "    y[1].append(np.sum(set_name == 1))  # Contar clase 1 (Yes)\n",
        "\n",
        "# Etiquetas para los conjuntos\n",
        "sets = ['Train Set', 'Validation Set', 'Test Set']\n",
        "\n",
        "# Crear la figura y los ejes\n",
        "fig, ax = plt.subplots()\n",
        "\n",
        "# Definir el ancho de las barras\n",
        "bar_width = 0.35\n",
        "\n",
        "# Posición de las barras en el eje x\n",
        "index = np.arange(len(sets))\n",
        "\n",
        "# Dibujar las barras\n",
        "bars1 = ax.bar(index, y[0], bar_width, label='No', color='#33cc33', alpha=0.7)\n",
        "bars2 = ax.bar(index + bar_width, y[1], bar_width, label='Yes', color='#ff3300', alpha=0.7)\n",
        "\n",
        "# Añadir título y etiquetas\n",
        "ax.set_title('Count of classes in each set')\n",
        "ax.set_xlabel('Set')\n",
        "ax.set_ylabel('Count')\n",
        "ax.set_xticks(index + bar_width / 2)\n",
        "ax.set_xticklabels(sets)\n",
        "\n",
        "# Añadir la leyenda\n",
        "ax.legend()\n",
        "\n",
        "# Mostrar la figura\n",
        "plt.show()\n",
        "\n"
      ]
    },
    {
      "cell_type": "code",
      "execution_count": null,
      "metadata": {
        "id": "dQ-RBs1yqkwp"
      },
      "outputs": [],
      "source": [
        "plot_samples(X_train, y_train, labels, 30)"
      ]
    },
    {
      "cell_type": "code",
      "execution_count": null,
      "metadata": {
        "id": "54UV6f7er5Wd"
      },
      "outputs": [],
      "source": [
        "# Lista de posibles nombres de archivos\n",
        "file_paths = [\n",
        "    '/tmp/brain-tumor/TRAIN/YES/Y106.jpg',\n",
        "    '/tmp/brain-tumor/TRAIN/YES/Y107.jpg',\n",
        "    '/tmp/brain-tumor/TRAIN/YES/Y108.jpg'\n",
        "]\n",
        "\n",
        "img = None\n",
        "\n",
        "# Intentar leer la imagen\n",
        "for file_path in file_paths:\n",
        "    try:\n",
        "        img = cv2.imread(file_path)\n",
        "        # Verificar si la imagen se cargó correctamente\n",
        "        if img is not None:\n",
        "            print(f\"Imagen cargada exitosamente: {file_path}\")\n",
        "            break  # Salir del bucle si se encuentra una imagen válida\n",
        "    except Exception as e:\n",
        "        print(f\"Error al intentar cargar {file_path}: {e}\")\n",
        "\n",
        "# Verificar si ninguna imagen fue cargada\n",
        "if img is None:\n",
        "    print(\"No se pudo cargar ninguna imagen de los archivos especificados.\")\n",
        "\n",
        "\n",
        "img = cv2.resize(\n",
        "            img,\n",
        "            dsize=IMG_SIZE,\n",
        "            interpolation=cv2.INTER_CUBIC\n",
        "        )\n",
        "gray = cv2.cvtColor(img, cv2.COLOR_RGB2GRAY)\n",
        "gray = cv2.GaussianBlur(gray, (5, 5), 0)\n",
        "\n",
        "# threshold the image, then perform a series of erosions +\n",
        "# dilations to remove any small regions of noise\n",
        "thresh = cv2.threshold(gray, 45, 255, cv2.THRESH_BINARY)[1]\n",
        "thresh = cv2.erode(thresh, None, iterations=2)\n",
        "thresh = cv2.dilate(thresh, None, iterations=2)\n",
        "\n",
        "# find contours in thresholded image, then grab the largest one\n",
        "cnts = cv2.findContours(thresh.copy(), cv2.RETR_EXTERNAL, cv2.CHAIN_APPROX_SIMPLE)\n",
        "cnts = imutils.grab_contours(cnts)\n",
        "c = max(cnts, key=cv2.contourArea)\n",
        "\n",
        "# find the extreme points\n",
        "extLeft = tuple(c[c[:, :, 0].argmin()][0])\n",
        "extRight = tuple(c[c[:, :, 0].argmax()][0])\n",
        "extTop = tuple(c[c[:, :, 1].argmin()][0])\n",
        "extBot = tuple(c[c[:, :, 1].argmax()][0])\n",
        "\n",
        "# add contour on the image\n",
        "img_cnt = cv2.drawContours(img.copy(), [c], -1, (0, 255, 255), 4)\n",
        "\n",
        "# add extreme points\n",
        "img_pnt = cv2.circle(img_cnt.copy(), extLeft, 8, (0, 0, 255), -1)\n",
        "img_pnt = cv2.circle(img_pnt, extRight, 8, (0, 255, 0), -1)\n",
        "img_pnt = cv2.circle(img_pnt, extTop, 8, (255, 0, 0), -1)\n",
        "img_pnt = cv2.circle(img_pnt, extBot, 8, (255, 255, 0), -1)\n",
        "\n",
        "# crop\n",
        "ADD_PIXELS = 0\n",
        "new_img = img[extTop[1]-ADD_PIXELS:extBot[1]+ADD_PIXELS, extLeft[0]-ADD_PIXELS:extRight[0]+ADD_PIXELS].copy()"
      ]
    },
    {
      "cell_type": "code",
      "execution_count": null,
      "metadata": {
        "id": "8xYfj1PlsV1N"
      },
      "outputs": [],
      "source": [
        "plt.figure(figsize=(15,6))\n",
        "plt.subplot(141)\n",
        "plt.imshow(img)\n",
        "plt.xticks([])\n",
        "plt.yticks([])\n",
        "plt.title('Step 1. Get the original image')\n",
        "plt.subplot(142)\n",
        "plt.imshow(img_cnt)\n",
        "plt.xticks([])\n",
        "plt.yticks([])\n",
        "plt.title('Step 2. Find the biggest contour')\n",
        "plt.subplot(143)\n",
        "plt.imshow(img_pnt)\n",
        "plt.xticks([])\n",
        "plt.yticks([])\n",
        "plt.title('Step 3. Find the extreme points')\n",
        "plt.subplot(144)\n",
        "plt.imshow(new_img)\n",
        "plt.xticks([])\n",
        "plt.yticks([])\n",
        "plt.title('Step 4. Crop the image')\n",
        "plt.show()"
      ]
    },
    {
      "cell_type": "code",
      "execution_count": null,
      "metadata": {
        "id": "5PjwfFnjs1db"
      },
      "outputs": [],
      "source": [
        "# apply this for each set\n",
        "X_train_crop = crop_imgs(set_name=X_train)\n",
        "X_val_crop = crop_imgs(set_name=x_val)\n",
        "X_test_crop = crop_imgs(set_name=x_test)"
      ]
    },
    {
      "cell_type": "code",
      "execution_count": null,
      "metadata": {
        "id": "eDsdNXaftZAS"
      },
      "outputs": [],
      "source": [
        "plot_samples(X_train_crop, y_train, labels, 30)"
      ]
    },
    {
      "cell_type": "code",
      "execution_count": null,
      "metadata": {
        "id": "KwI545-WzIpt"
      },
      "outputs": [],
      "source": [
        "X_train_prep = preprocess_imgs(set_name=X_train_crop, img_size=IMG_SIZE)\n",
        "X_test_prep = preprocess_imgs(set_name=X_test_crop, img_size=IMG_SIZE)\n",
        "X_val_prep = preprocess_imgs(set_name=X_val_crop, img_size=IMG_SIZE)"
      ]
    },
    {
      "cell_type": "code",
      "source": [
        "!mkdir -p /tmp/brain-tumor/TRAIN_CROP/YES /tmp/brain-tumor/TRAIN_CROP/NO \\\n",
        "/tmp/brain-tumor/TEST_CROP/YES /tmp/brain-tumor/TEST_CROP/NO \\\n",
        "/tmp/brain-tumor/VAL_CROP/YES /tmp/brain-tumor/VAL_CROP/NO\n",
        "\n",
        "save_new_images(X_train_crop, y_train, folder_name='/tmp/brain-tumor/TRAIN_CROP/')\n",
        "save_new_images(X_val_crop, y_val, folder_name='/tmp/brain-tumor/VAL_CROP/')\n",
        "save_new_images(X_test_crop, y_test, folder_name='/tmp/brain-tumor/TEST_CROP/')"
      ],
      "metadata": {
        "id": "ARv4eAP0JvEZ"
      },
      "execution_count": null,
      "outputs": []
    },
    {
      "cell_type": "code",
      "execution_count": null,
      "metadata": {
        "id": "A93NX6-6zKTE"
      },
      "outputs": [],
      "source": [
        "#plot_samples(X_train_prep, y_train, labels, 30)"
      ]
    },
    {
      "cell_type": "code",
      "execution_count": null,
      "metadata": {
        "id": "P4QjkIZqzMj8"
      },
      "outputs": [],
      "source": [
        "# set the paramters we want to change randomly\n",
        "demo_datagen = ImageDataGenerator(\n",
        "    rotation_range=15,\n",
        "    width_shift_range=0.05,\n",
        "    height_shift_range=0.05,\n",
        "    rescale=1./255,\n",
        "    shear_range=0.05,\n",
        "    brightness_range=[0.1, 1.5],\n",
        "    horizontal_flip=True,\n",
        "    vertical_flip=True\n",
        ")"
      ]
    },
    {
      "cell_type": "code",
      "execution_count": null,
      "metadata": {
        "id": "lfdaVG_Nzc4C"
      },
      "outputs": [],
      "source": [
        "os.mkdir('preview')\n",
        "x = X_train_crop[0]\n",
        "x = x.reshape((1,) + x.shape)\n",
        "\n",
        "i = 0\n",
        "for batch in demo_datagen.flow(x, batch_size=1, save_to_dir='preview', save_prefix='aug_img', save_format='jpg'):\n",
        "    i += 1\n",
        "    if i > 20:\n",
        "        break"
      ]
    },
    {
      "cell_type": "code",
      "execution_count": null,
      "metadata": {
        "id": "MnFPbR7AzeaZ"
      },
      "outputs": [],
      "source": [
        "plt.imshow(X_train_crop[0])\n",
        "plt.xticks([])\n",
        "plt.yticks([])\n",
        "plt.title('Original Image')\n",
        "plt.show()\n",
        "\n",
        "plt.figure(figsize=(15,6))\n",
        "i = 1\n",
        "for img in os.listdir('preview/'):\n",
        "    img = cv2.imread('preview/' + img)\n",
        "    img = cv2.cvtColor(img, cv2.COLOR_BGR2RGB)\n",
        "    plt.subplot(3,7,i)\n",
        "    plt.imshow(img)\n",
        "    plt.xticks([])\n",
        "    plt.yticks([])\n",
        "    i += 1\n",
        "    if i > 3*7:\n",
        "        break\n",
        "plt.suptitle('Augemented Images')\n",
        "plt.show()"
      ]
    },
    {
      "cell_type": "code",
      "execution_count": null,
      "metadata": {
        "id": "n92yPL_LzhjM"
      },
      "outputs": [],
      "source": [
        "!rm -rf preview/"
      ]
    },
    {
      "cell_type": "code",
      "execution_count": null,
      "metadata": {
        "id": "_DzIaj5wzsLs"
      },
      "outputs": [],
      "source": [
        "TRAIN_DIR = '/tmp/brain-tumor/TRAIN_CROP/'\n",
        "VAL_DIR = '/tmp/brain-tumor/VAL_CROP/'\n",
        "\n",
        "train_datagen = ImageDataGenerator(\n",
        "    rotation_range=30,\n",
        "    width_shift_range=0.2,\n",
        "    height_shift_range=0.2,\n",
        "    shear_range=0.2,\n",
        "    zoom_range=0.2,\n",
        "    brightness_range=[0.5, 1.5],\n",
        "    horizontal_flip=True,\n",
        "    vertical_flip=True,\n",
        "    preprocessing_function=preprocess_input\n",
        ")\n",
        "\n",
        "test_datagen = ImageDataGenerator(\n",
        "    preprocessing_function=preprocess_input\n",
        ")\n",
        "\n",
        "\n",
        "train_generator = train_datagen.flow_from_directory(\n",
        "    TRAIN_DIR,\n",
        "    color_mode='rgb',\n",
        "    target_size=IMG_SIZE,\n",
        "    batch_size=32,\n",
        "    class_mode='binary',\n",
        "    seed=RANDOM_SEED\n",
        ")\n",
        "\n",
        "\n",
        "validation_generator = test_datagen.flow_from_directory(\n",
        "    VAL_DIR,\n",
        "    color_mode='rgb',\n",
        "    target_size=IMG_SIZE,\n",
        "    batch_size=16,\n",
        "    class_mode='binary',\n",
        "    seed=RANDOM_SEED\n",
        ")"
      ]
    },
    {
      "cell_type": "code",
      "execution_count": null,
      "metadata": {
        "id": "FniRH5y-a9dj"
      },
      "outputs": [],
      "source": [
        "from tensorflow.keras.layers import Input\n",
        "\n",
        "NUM_CLASSES = 1\n",
        "input_tensor = Input(shape=IMG_SIZE + (3,))\n",
        "\n",
        "# Load the VGG16 model with the specified input tensor\n",
        "base_model = VGG16(\n",
        "    weights='imagenet',\n",
        "    include_top=False,\n",
        "    input_tensor=input_tensor  # Use input_tensor here\n",
        ")\n",
        "\n",
        "base_model.trainable = False\n",
        "\n",
        "# Construir el resto del modelo\n",
        "x = base_model.output\n",
        "x = Flatten()(x)\n",
        "x = Dropout(0.5)(x)\n",
        "output = Dense(NUM_CLASSES, activation='sigmoid')(x)\n",
        "\n",
        "# Create the final model\n",
        "model = Model(inputs=input_tensor, outputs=output)\n",
        "\n",
        "model.compile(\n",
        "    loss='binary_crossentropy',\n",
        "    optimizer=RMSprop(learning_rate=1e-4),\n",
        "    metrics=['accuracy']\n",
        ")\n",
        "\n",
        "model.summary()"
      ]
    },
    {
      "cell_type": "code",
      "execution_count": null,
      "metadata": {
        "id": "IHhAOGX3iqkr"
      },
      "outputs": [],
      "source": [
        "import matplotlib.pyplot as plt\n",
        "\n",
        "# Obtén un lote de imágenes y etiquetas desde el generador de entrenamiento\n",
        "batch = next(train_generator)  # Obtén el primer lote de datos\n",
        "images, labels = batch\n",
        "\n",
        "# Configura la cuadrícula de visualización\n",
        "plt.figure(figsize=(10, 10))\n",
        "for i in range(9):  # Muestra 9 imágenes\n",
        "    plt.subplot(3, 3, i + 1)\n",
        "    plt.imshow(images[i].astype(\"uint8\"))  # Convierte a formato uint8 si es necesario\n",
        "    plt.title(f\"Label: {'Tumor' if labels[i] == 1 else 'No Tumor'}\")\n",
        "    plt.axis('off')\n",
        "\n",
        "plt.show()\n"
      ]
    },
    {
      "cell_type": "code",
      "execution_count": null,
      "metadata": {
        "id": "J_MMnbKAcBa_"
      },
      "outputs": [],
      "source": [
        "import math\n",
        "\n",
        "steps_per_epoch = 2 * math.ceil(train_generator.samples / train_generator.batch_size)\n",
        "validation_steps = 2 * math.ceil(validation_generator.samples / validation_generator.batch_size)\n",
        "\n",
        "print(f'Steps per epoch: {steps_per_epoch}')\n",
        "print(f'Validation steps: {validation_steps}')"
      ]
    },
    {
      "cell_type": "code",
      "execution_count": null,
      "metadata": {
        "id": "tdjkWYOWj2kw"
      },
      "outputs": [],
      "source": [
        "# Prueba a iterar por varios lotes para verificar si el generador funciona bien\n",
        "for i in range(1):  # Cambia el número según la cantidad de lotes que quieras verificar\n",
        "    batch = next(train_generator)\n",
        "    print(f\"Lote {i + 1} cargado correctamente.\")\n"
      ]
    },
    {
      "cell_type": "code",
      "execution_count": null,
      "metadata": {
        "id": "eU6-wSJq3XpC",
        "colab": {
          "base_uri": "https://localhost:8080/"
        },
        "outputId": "1c975d36-de73-4edf-8935-81d83c55a0c4"
      },
      "outputs": [
        {
          "metadata": {
            "tags": null
          },
          "name": "stdout",
          "output_type": "stream",
          "text": [
            "Epoch 1/30\n"
          ]
        },
        {
          "metadata": {
            "tags": null
          },
          "name": "stderr",
          "output_type": "stream",
          "text": [
            "/usr/local/lib/python3.10/dist-packages/keras/src/trainers/data_adapters/py_dataset_adapter.py:121: UserWarning:\n",
            "\n",
            "Your `PyDataset` class should call `super().__init__(**kwargs)` in its constructor. `**kwargs` can include `workers`, `use_multiprocessing`, `max_queue_size`. Do not pass these arguments to `fit()`, as they will be ignored.\n",
            "\n"
          ]
        },
        {
          "metadata": {
            "tags": null
          },
          "name": "stdout",
          "output_type": "stream",
          "text": [
            "\u001b[1m 7/50\u001b[0m \u001b[32m━━\u001b[0m\u001b[37m━━━━━━━━━━━━━━━━━━\u001b[0m \u001b[1m16:36\u001b[0m 23s/step - accuracy: 0.4653 - loss: 6.6129"
          ]
        },
        {
          "metadata": {
            "tags": null
          },
          "name": "stderr",
          "output_type": "stream",
          "text": [
            "/usr/lib/python3.10/contextlib.py:153: UserWarning:\n",
            "\n",
            "Your input ran out of data; interrupting training. Make sure that your dataset or generator can generate at least `steps_per_epoch * epochs` batches. You may need to use the `.repeat()` function when building your dataset.\n",
            "\n"
          ]
        },
        {
          "output_type": "stream",
          "name": "stdout",
          "text": [
            "\b\b\b\b\b\b\b\b\b\b\b\b\b\b\b\b\b\b\b\b\b\b\b\b\b\b\b\b\b\b\b\b\b\b\b\b\b\b\b\b\b\b\b\b\b\b\b\b\b\b\b\b\b\b\b\b\b\b\b\b\b\b\b\b\b\b\b\b\b\b\b\b\b\b\b\r\u001b[1m50/50\u001b[0m \u001b[32m━━━━━━━━━━━━━━━━━━━━\u001b[0m\u001b[37m\u001b[0m \u001b[1m186s\u001b[0m 4s/step - accuracy: 0.5464 - loss: 5.9548 - val_accuracy: 0.6000 - val_loss: 3.0555\n",
            "Epoch 2/30\n"
          ]
        }
      ],
      "source": [
        "EPOCHS = 30\n",
        "es = EarlyStopping(\n",
        "    monitor='val_loss',\n",
        "    mode='min',\n",
        "    patience=5,\n",
        "    restore_best_weights=True\n",
        ")\n",
        "\n",
        "history = model.fit(\n",
        "    train_generator,\n",
        "    steps_per_epoch=50,\n",
        "    epochs=EPOCHS,\n",
        "    validation_data=validation_generator,\n",
        "    # Use calculated validation_steps to prevent data from being exhausted\n",
        "    validation_steps=validation_steps,\n",
        "    #callbacks=[es]\n",
        ")"
      ]
    },
    {
      "cell_type": "code",
      "execution_count": null,
      "metadata": {
        "id": "ihaLlLKJ38sk"
      },
      "outputs": [],
      "source": [
        "# plot model performance\n",
        "acc = history.history['accuracy']\n",
        "val_acc = history.history['val_accuracy']\n",
        "loss = history.history['loss']\n",
        "val_loss = history.history['val_loss']\n",
        "epochs_range = range(1, len(history.epoch) + 1)\n",
        "\n",
        "plt.figure(figsize=(15,5))\n",
        "\n",
        "plt.subplot(1, 2, 1)\n",
        "plt.plot(epochs_range, acc, label='Train Set')\n",
        "plt.plot(epochs_range, val_acc, label='Val Set')\n",
        "plt.legend(loc=\"best\")\n",
        "plt.xlabel('Epochs')\n",
        "plt.ylabel('Accuracy')\n",
        "plt.title('Model Accuracy')\n",
        "\n",
        "plt.subplot(1, 2, 2)\n",
        "plt.plot(epochs_range, loss, label='Train Set')\n",
        "plt.plot(epochs_range, val_loss, label='Val Set')\n",
        "plt.legend(loc=\"best\")\n",
        "plt.xlabel('Epochs')\n",
        "plt.ylabel('Loss')\n",
        "plt.title('Model Loss')\n",
        "\n",
        "plt.tight_layout()\n",
        "plt.show()"
      ]
    },
    {
      "cell_type": "code",
      "source": [
        "\n",
        "# validate on val set\n",
        "predictions = model.predict(X_val_prep)\n",
        "predictions = [1 if x > 0.5 else 0 for x in predictions]\n",
        "\n",
        "accuracy = accuracy_score(y_val, predictions)\n",
        "print('Val Accuracy = %.2f' % accuracy)\n",
        "\n",
        "# Ajustar labels si es un diccionario\n",
        "labels = {0: 'NO', 1: 'YES'}  # Asegúrate de que tus etiquetas estén definidas correctamente\n",
        "\n",
        "# Obtener lista de clases\n",
        "class_names = list(labels.values())\n",
        "\n",
        "# Generar la matriz de confusión\n",
        "confusion_mtx = confusion_matrix(y_val, predictions)\n",
        "\n",
        "# Graficar la matriz de confusión con etiquetas personalizadas\n",
        "plot_confusion_matrix(confusion_mtx, classes=class_names, normalize=True)"
      ],
      "metadata": {
        "id": "RW3L9im5RUKY"
      },
      "execution_count": null,
      "outputs": []
    },
    {
      "cell_type": "code",
      "execution_count": null,
      "metadata": {
        "id": "OOE9aniwBY-S"
      },
      "outputs": [],
      "source": [
        "# validate on val set\n",
        "predictions = model.predict(X_test_prep)\n",
        "predictions = [1 if x>0.5 else 0 for x in predictions]\n",
        "\n",
        "accuracy = accuracy_score(y_test, predictions)\n",
        "print('Val Accuracy = %.2f' % accuracy)\n",
        "\n",
        "confusion_mtx = confusion_matrix(y_test, predictions)\n",
        "plot_confusion_matrix(confusion_mtx, classes=class_names, normalize=False)"
      ]
    },
    {
      "cell_type": "code",
      "source": [
        "val_loss, val_accuracy = model.evaluate(validation_generator)\n",
        "print(f\"Validation Accuracy: {val_accuracy:.2f}\")\n",
        "print(f\"Validation Loss: {val_loss:.2f}\")"
      ],
      "metadata": {
        "id": "z97LqdzngOoG"
      },
      "execution_count": null,
      "outputs": []
    },
    {
      "cell_type": "code",
      "execution_count": null,
      "metadata": {
        "id": "LXPPV0w2f_rb"
      },
      "outputs": [],
      "source": [
        "# prompt: what more to do?\n",
        "\n",
        "from ipywidgets import interact, IntSlider\n",
        "\n",
        "# Assuming you have your X_test_prep and y_test data loaded\n",
        "# and your model is trained and ready to be used for prediction.\n",
        "\n",
        "def predict_and_show(image_index):\n",
        "  \"\"\"\n",
        "  Predicts the class of an image and shows it along with the prediction.\n",
        "  \"\"\"\n",
        "  prediction = model.predict(np.expand_dims(X_test_prep[image_index], axis=0))\n",
        "  predicted_class = 1 if prediction > 0.5 else 0\n",
        "  true_class = y_test[image_index]\n",
        "\n",
        "  plt.imshow(X_test_prep[image_index])\n",
        "  plt.title(f\"Prediction: {labels[predicted_class]}, True: {labels[true_class]}\")\n",
        "  plt.show()\n",
        "\n",
        "# Create a slider widget for selecting an image index\n",
        "image_slider = IntSlider(min=0, max=len(X_test_prep)-1, step=1, value=0)\n",
        "\n",
        "# Use interact to link the slider to the predict_and_show function\n",
        "interact(predict_and_show, image_index=image_slider);"
      ]
    },
    {
      "cell_type": "code",
      "execution_count": null,
      "metadata": {
        "id": "wHGBEkHmAin3"
      },
      "outputs": [],
      "source": [
        "ind_list = np.argwhere((y_test == predictions) == False)[:, -1]\n",
        "if ind_list.size == 0:\n",
        "    print('There are no missclassified images.')\n",
        "else:\n",
        "    for i in ind_list:\n",
        "        plt.figure()\n",
        "        plt.imshow(X_test_crop[i])\n",
        "        plt.xticks([])\n",
        "        plt.yticks([])\n",
        "        plt.title(f'Actual class: {y_val[i]}\\nPredicted class: {predictions[i]}')\n",
        "        plt.show()"
      ]
    },
    {
      "cell_type": "code",
      "source": [
        "model.save('2024-11-13_VGG_model.h5')"
      ],
      "metadata": {
        "id": "YiTaL72Kb6ZH"
      },
      "execution_count": null,
      "outputs": []
    }
  ],
  "metadata": {
    "accelerator": "GPU",
    "colab": {
      "gpuType": "T4",
      "provenance": []
    },
    "kernelspec": {
      "display_name": "Python 3",
      "name": "python3"
    },
    "language_info": {
      "name": "python"
    }
  },
  "nbformat": 4,
  "nbformat_minor": 0
}